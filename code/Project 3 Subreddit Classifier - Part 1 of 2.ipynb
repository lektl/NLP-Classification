{
 "cells": [
  {
   "cell_type": "markdown",
   "metadata": {},
   "source": [
    "<img src=\"http://imgur.com/1ZcRyrc.png\" style=\"float: left; margin: 20px; height: 55px\">\n",
    "\n",
    "# Project 3: Web APIs & NLP\n",
    "\n",
    "## Part 1: Webscraping and Data Gathering"
   ]
  },
  {
   "cell_type": "markdown",
   "metadata": {},
   "source": [
    "## Problem Statement"
   ]
  },
  {
   "cell_type": "markdown",
   "metadata": {},
   "source": [
    "Using [Pushshift's](https://github.com/pushshift/api) API, posts from two subreddits, namely r/depression and r/BipolarReddit, will be collected. I will then use NLP to train a classifier to determine which subreddit a given post came from."
   ]
  },
  {
   "cell_type": "markdown",
   "metadata": {},
   "source": [
    "### Contents:\n",
    "- [Posts extraction](#Posts-extraction)\n",
    "- [Export posts to CSV](#Export-posts-to-CSV)"
   ]
  },
  {
   "cell_type": "code",
   "execution_count": 1,
   "metadata": {},
   "outputs": [],
   "source": [
    "import pandas as pd\n",
    "import numpy as np\n",
    "import seaborn as sns\n",
    "import matplotlib.pyplot as plt\n",
    "%matplotlib inline\n",
    "\n",
    "import requests\n",
    "import time"
   ]
  },
  {
   "cell_type": "markdown",
   "metadata": {},
   "source": [
    "## Posts extraction"
   ]
  },
  {
   "cell_type": "code",
   "execution_count": 2,
   "metadata": {},
   "outputs": [],
   "source": [
    "# Function to request data from reddit API\n",
    "\n",
    "def get_posts(subreddit):\n",
    "    # Initializing our URL, params and empty lists to capture posts\n",
    "    url = 'https://api.pushshift.io/reddit/search/submission'\n",
    "    posts_ff=[]\n",
    "    params = {\n",
    "        'subreddit': subreddit, # the subreddit to scrape from\n",
    "        'size': 100, # to retrieve 100 posts at one time from Reddit (Hard Limited at 100)\n",
    "        'before': None, # to continue from where it has previously stopped\n",
    "    }\n",
    "\n",
    "    # Below is a for loop to execute the the command 10 times to get ~ 1000 posts\n",
    "    for i in range(10):\n",
    "        res = requests.get(url, params) # Request data from Reddit\n",
    "        if res.status_code != 200:   #Print error if request fails\n",
    "            print('Status error', res.status_code)\n",
    "            break\n",
    "        else:\n",
    "            print(f'Request iteration: {i+1}\\n Status code: {res.status_code}') # Print iteration count and corresponding status code\n",
    "            data = res.json() # Store results in data variable\n",
    "            posts = data['data'] # Store results into list\n",
    "        if len(posts) > 0: # Condition to check if our results are returning nothing\n",
    "            newbefore = posts[-1]['created_utc']\n",
    "            params['before'] = newbefore # Replace the value of 'created_utc' of last post in current request iteration as the new 'before' value in our parameters\n",
    "            posts_ff.extend(posts) # Add the 100 results of the current request loop into the posts list\n",
    "            print('Number of posts scraped: ', len(posts_ff))\n",
    "        else:\n",
    "            print('Request did not fetch any results')\n",
    "        time.sleep(3) #seconds to sleep\n",
    "    print('**End of scrape**')        \n",
    "    return posts_ff"
   ]
  },
  {
   "cell_type": "code",
   "execution_count": 3,
   "metadata": {},
   "outputs": [
    {
     "name": "stdout",
     "output_type": "stream",
     "text": [
      "Request iteration: 1\n",
      " Status code: 200\n",
      "Number of posts scraped:  100\n",
      "Request iteration: 2\n",
      " Status code: 200\n",
      "Number of posts scraped:  200\n",
      "Request iteration: 3\n",
      " Status code: 200\n",
      "Number of posts scraped:  300\n",
      "Request iteration: 4\n",
      " Status code: 200\n",
      "Number of posts scraped:  400\n",
      "Request iteration: 5\n",
      " Status code: 200\n",
      "Number of posts scraped:  500\n",
      "Request iteration: 6\n",
      " Status code: 200\n",
      "Number of posts scraped:  600\n",
      "Request iteration: 7\n",
      " Status code: 200\n",
      "Number of posts scraped:  700\n",
      "Request iteration: 8\n",
      " Status code: 200\n",
      "Number of posts scraped:  800\n",
      "Request iteration: 9\n",
      " Status code: 200\n",
      "Number of posts scraped:  900\n",
      "Request iteration: 10\n",
      " Status code: 200\n",
      "Number of posts scraped:  1000\n",
      "**End of scrape**\n"
     ]
    }
   ],
   "source": [
    "sub_depress = get_posts('depression')"
   ]
  },
  {
   "cell_type": "code",
   "execution_count": 4,
   "metadata": {},
   "outputs": [
    {
     "name": "stdout",
     "output_type": "stream",
     "text": [
      "Request iteration: 1\n",
      " Status code: 200\n",
      "Number of posts scraped:  100\n",
      "Request iteration: 2\n",
      " Status code: 200\n",
      "Number of posts scraped:  200\n",
      "Request iteration: 3\n",
      " Status code: 200\n",
      "Number of posts scraped:  300\n",
      "Request iteration: 4\n",
      " Status code: 200\n",
      "Number of posts scraped:  400\n",
      "Request iteration: 5\n",
      " Status code: 200\n",
      "Number of posts scraped:  500\n",
      "Request iteration: 6\n",
      " Status code: 200\n",
      "Number of posts scraped:  600\n",
      "Request iteration: 7\n",
      " Status code: 200\n",
      "Number of posts scraped:  700\n",
      "Request iteration: 8\n",
      " Status code: 200\n",
      "Number of posts scraped:  800\n",
      "Request iteration: 9\n",
      " Status code: 200\n",
      "Number of posts scraped:  900\n",
      "Request iteration: 10\n",
      " Status code: 200\n",
      "Number of posts scraped:  1000\n",
      "**End of scrape**\n"
     ]
    }
   ],
   "source": [
    "sub_bipolar = get_posts('bipolarreddit')"
   ]
  },
  {
   "cell_type": "code",
   "execution_count": 5,
   "metadata": {},
   "outputs": [
    {
     "name": "stdout",
     "output_type": "stream",
     "text": [
      "<class 'list'>\n",
      "<class 'list'>\n"
     ]
    }
   ],
   "source": [
    "# Check class\n",
    "print(type(sub_depress))\n",
    "print(type(sub_bipolar))"
   ]
  },
  {
   "cell_type": "code",
   "execution_count": 6,
   "metadata": {},
   "outputs": [
    {
     "data": {
      "text/plain": [
       "dict_keys(['all_awardings', 'allow_live_comments', 'author', 'author_flair_css_class', 'author_flair_richtext', 'author_flair_text', 'author_flair_type', 'author_fullname', 'author_is_blocked', 'author_patreon_flair', 'author_premium', 'awarders', 'can_mod_post', 'contest_mode', 'created_utc', 'domain', 'full_link', 'gildings', 'id', 'is_created_from_ads_ui', 'is_crosspostable', 'is_meta', 'is_original_content', 'is_reddit_media_domain', 'is_robot_indexable', 'is_self', 'is_video', 'link_flair_background_color', 'link_flair_richtext', 'link_flair_text_color', 'link_flair_type', 'locked', 'media_only', 'no_follow', 'num_comments', 'num_crossposts', 'over_18', 'parent_whitelist_status', 'permalink', 'pinned', 'pwls', 'removed_by_category', 'retrieved_on', 'score', 'selftext', 'send_replies', 'spoiler', 'stickied', 'subreddit', 'subreddit_id', 'subreddit_subscribers', 'subreddit_type', 'suggested_sort', 'thumbnail', 'title', 'total_awards_received', 'treatment_tags', 'upvote_ratio', 'url', 'whitelist_status', 'wls'])"
      ]
     },
     "execution_count": 6,
     "metadata": {},
     "output_type": "execute_result"
    }
   ],
   "source": [
    "# Check 1st entry of subreddit depress\n",
    "sub_depress[0].keys()"
   ]
  },
  {
   "cell_type": "code",
   "execution_count": 7,
   "metadata": {},
   "outputs": [
    {
     "data": {
      "text/plain": [
       "dict_keys(['all_awardings', 'allow_live_comments', 'author', 'author_flair_css_class', 'author_flair_richtext', 'author_flair_text', 'author_flair_type', 'author_fullname', 'author_is_blocked', 'author_patreon_flair', 'author_premium', 'awarders', 'can_mod_post', 'contest_mode', 'created_utc', 'domain', 'full_link', 'gildings', 'id', 'is_created_from_ads_ui', 'is_crosspostable', 'is_meta', 'is_original_content', 'is_reddit_media_domain', 'is_robot_indexable', 'is_self', 'is_video', 'link_flair_background_color', 'link_flair_richtext', 'link_flair_template_id', 'link_flair_text', 'link_flair_text_color', 'link_flair_type', 'locked', 'media_only', 'no_follow', 'num_comments', 'num_crossposts', 'over_18', 'parent_whitelist_status', 'permalink', 'pinned', 'pwls', 'retrieved_on', 'score', 'selftext', 'send_replies', 'spoiler', 'stickied', 'subreddit', 'subreddit_id', 'subreddit_subscribers', 'subreddit_type', 'thumbnail', 'title', 'total_awards_received', 'treatment_tags', 'upvote_ratio', 'url', 'whitelist_status', 'wls'])"
      ]
     },
     "execution_count": 7,
     "metadata": {},
     "output_type": "execute_result"
    }
   ],
   "source": [
    "# Check 1st entry of subreddit bipolar\n",
    "sub_bipolar[0].keys()"
   ]
  },
  {
   "cell_type": "code",
   "execution_count": 8,
   "metadata": {},
   "outputs": [],
   "source": [
    "# Convert each subreddit post to data frame\n",
    "df_depress = pd.DataFrame(sub_depress)\n",
    "df_bipolar = pd.DataFrame(sub_bipolar)"
   ]
  },
  {
   "cell_type": "code",
   "execution_count": 9,
   "metadata": {},
   "outputs": [
    {
     "name": "stdout",
     "output_type": "stream",
     "text": [
      "Depression DF: (1000, 64)\n",
      "Bipolar DF: (1000, 71)\n"
     ]
    }
   ],
   "source": [
    "# Display number of rows, columns for dataframes\n",
    "print(f'Depression DF: {df_depress.shape}')\n",
    "print(f'Bipolar DF: {df_bipolar.shape}')"
   ]
  },
  {
   "cell_type": "code",
   "execution_count": 10,
   "metadata": {},
   "outputs": [
    {
     "data": {
      "text/html": [
       "<div>\n",
       "<style scoped>\n",
       "    .dataframe tbody tr th:only-of-type {\n",
       "        vertical-align: middle;\n",
       "    }\n",
       "\n",
       "    .dataframe tbody tr th {\n",
       "        vertical-align: top;\n",
       "    }\n",
       "\n",
       "    .dataframe thead th {\n",
       "        text-align: right;\n",
       "    }\n",
       "</style>\n",
       "<table border=\"1\" class=\"dataframe\">\n",
       "  <thead>\n",
       "    <tr style=\"text-align: right;\">\n",
       "      <th></th>\n",
       "      <th>all_awardings</th>\n",
       "      <th>allow_live_comments</th>\n",
       "      <th>author</th>\n",
       "      <th>author_flair_css_class</th>\n",
       "      <th>author_flair_richtext</th>\n",
       "      <th>author_flair_text</th>\n",
       "      <th>author_flair_type</th>\n",
       "      <th>author_fullname</th>\n",
       "      <th>author_is_blocked</th>\n",
       "      <th>author_patreon_flair</th>\n",
       "      <th>...</th>\n",
       "      <th>title</th>\n",
       "      <th>total_awards_received</th>\n",
       "      <th>treatment_tags</th>\n",
       "      <th>upvote_ratio</th>\n",
       "      <th>url</th>\n",
       "      <th>whitelist_status</th>\n",
       "      <th>wls</th>\n",
       "      <th>author_cakeday</th>\n",
       "      <th>post_hint</th>\n",
       "      <th>preview</th>\n",
       "    </tr>\n",
       "  </thead>\n",
       "  <tbody>\n",
       "    <tr>\n",
       "      <th>0</th>\n",
       "      <td>[]</td>\n",
       "      <td>False</td>\n",
       "      <td>_Glokta</td>\n",
       "      <td>None</td>\n",
       "      <td>[]</td>\n",
       "      <td>None</td>\n",
       "      <td>text</td>\n",
       "      <td>t2_7dk5nrzz</td>\n",
       "      <td>False</td>\n",
       "      <td>False</td>\n",
       "      <td>...</td>\n",
       "      <td>A very cringy rap/poem I wrote up while I was ...</td>\n",
       "      <td>0</td>\n",
       "      <td>[]</td>\n",
       "      <td>1.0</td>\n",
       "      <td>https://www.reddit.com/r/depression/comments/w...</td>\n",
       "      <td>no_ads</td>\n",
       "      <td>0.0</td>\n",
       "      <td>NaN</td>\n",
       "      <td>NaN</td>\n",
       "      <td>NaN</td>\n",
       "    </tr>\n",
       "    <tr>\n",
       "      <th>1</th>\n",
       "      <td>[]</td>\n",
       "      <td>False</td>\n",
       "      <td>below298</td>\n",
       "      <td>None</td>\n",
       "      <td>[]</td>\n",
       "      <td>None</td>\n",
       "      <td>text</td>\n",
       "      <td>t2_g3sc7al9</td>\n",
       "      <td>False</td>\n",
       "      <td>False</td>\n",
       "      <td>...</td>\n",
       "      <td>Crying in the dark</td>\n",
       "      <td>0</td>\n",
       "      <td>[]</td>\n",
       "      <td>1.0</td>\n",
       "      <td>https://www.reddit.com/r/depression/comments/w...</td>\n",
       "      <td>no_ads</td>\n",
       "      <td>0.0</td>\n",
       "      <td>NaN</td>\n",
       "      <td>NaN</td>\n",
       "      <td>NaN</td>\n",
       "    </tr>\n",
       "    <tr>\n",
       "      <th>2</th>\n",
       "      <td>[]</td>\n",
       "      <td>False</td>\n",
       "      <td>Fistandantis</td>\n",
       "      <td>None</td>\n",
       "      <td>[]</td>\n",
       "      <td>None</td>\n",
       "      <td>text</td>\n",
       "      <td>t2_4acc43w4</td>\n",
       "      <td>False</td>\n",
       "      <td>False</td>\n",
       "      <td>...</td>\n",
       "      <td>After a two years of feeling like shit i am lo...</td>\n",
       "      <td>0</td>\n",
       "      <td>[]</td>\n",
       "      <td>1.0</td>\n",
       "      <td>https://www.reddit.com/r/depression/comments/w...</td>\n",
       "      <td>no_ads</td>\n",
       "      <td>0.0</td>\n",
       "      <td>NaN</td>\n",
       "      <td>NaN</td>\n",
       "      <td>NaN</td>\n",
       "    </tr>\n",
       "  </tbody>\n",
       "</table>\n",
       "<p>3 rows × 64 columns</p>\n",
       "</div>"
      ],
      "text/plain": [
       "  all_awardings  allow_live_comments        author author_flair_css_class  \\\n",
       "0            []                False       _Glokta                   None   \n",
       "1            []                False      below298                   None   \n",
       "2            []                False  Fistandantis                   None   \n",
       "\n",
       "  author_flair_richtext author_flair_text author_flair_type author_fullname  \\\n",
       "0                    []              None              text     t2_7dk5nrzz   \n",
       "1                    []              None              text     t2_g3sc7al9   \n",
       "2                    []              None              text     t2_4acc43w4   \n",
       "\n",
       "   author_is_blocked  author_patreon_flair  ...  \\\n",
       "0              False                 False  ...   \n",
       "1              False                 False  ...   \n",
       "2              False                 False  ...   \n",
       "\n",
       "                                               title total_awards_received  \\\n",
       "0  A very cringy rap/poem I wrote up while I was ...                     0   \n",
       "1                                 Crying in the dark                     0   \n",
       "2  After a two years of feeling like shit i am lo...                     0   \n",
       "\n",
       "   treatment_tags  upvote_ratio  \\\n",
       "0              []           1.0   \n",
       "1              []           1.0   \n",
       "2              []           1.0   \n",
       "\n",
       "                                                 url whitelist_status  wls  \\\n",
       "0  https://www.reddit.com/r/depression/comments/w...           no_ads  0.0   \n",
       "1  https://www.reddit.com/r/depression/comments/w...           no_ads  0.0   \n",
       "2  https://www.reddit.com/r/depression/comments/w...           no_ads  0.0   \n",
       "\n",
       "  author_cakeday post_hint  preview  \n",
       "0            NaN       NaN      NaN  \n",
       "1            NaN       NaN      NaN  \n",
       "2            NaN       NaN      NaN  \n",
       "\n",
       "[3 rows x 64 columns]"
      ]
     },
     "execution_count": 10,
     "metadata": {},
     "output_type": "execute_result"
    }
   ],
   "source": [
    "df_depress.head(3)"
   ]
  },
  {
   "cell_type": "code",
   "execution_count": 11,
   "metadata": {
    "scrolled": true
   },
   "outputs": [
    {
     "data": {
      "text/html": [
       "<div>\n",
       "<style scoped>\n",
       "    .dataframe tbody tr th:only-of-type {\n",
       "        vertical-align: middle;\n",
       "    }\n",
       "\n",
       "    .dataframe tbody tr th {\n",
       "        vertical-align: top;\n",
       "    }\n",
       "\n",
       "    .dataframe thead th {\n",
       "        text-align: right;\n",
       "    }\n",
       "</style>\n",
       "<table border=\"1\" class=\"dataframe\">\n",
       "  <thead>\n",
       "    <tr style=\"text-align: right;\">\n",
       "      <th></th>\n",
       "      <th>all_awardings</th>\n",
       "      <th>allow_live_comments</th>\n",
       "      <th>author</th>\n",
       "      <th>author_flair_css_class</th>\n",
       "      <th>author_flair_richtext</th>\n",
       "      <th>author_flair_text</th>\n",
       "      <th>author_flair_type</th>\n",
       "      <th>author_fullname</th>\n",
       "      <th>author_is_blocked</th>\n",
       "      <th>author_patreon_flair</th>\n",
       "      <th>...</th>\n",
       "      <th>author_flair_background_color</th>\n",
       "      <th>author_flair_text_color</th>\n",
       "      <th>removed_by_category</th>\n",
       "      <th>author_flair_template_id</th>\n",
       "      <th>post_hint</th>\n",
       "      <th>preview</th>\n",
       "      <th>crosspost_parent</th>\n",
       "      <th>crosspost_parent_list</th>\n",
       "      <th>url_overridden_by_dest</th>\n",
       "      <th>author_cakeday</th>\n",
       "    </tr>\n",
       "  </thead>\n",
       "  <tbody>\n",
       "    <tr>\n",
       "      <th>0</th>\n",
       "      <td>[]</td>\n",
       "      <td>False</td>\n",
       "      <td>bejbisvejeok1</td>\n",
       "      <td>None</td>\n",
       "      <td>[]</td>\n",
       "      <td>None</td>\n",
       "      <td>text</td>\n",
       "      <td>t2_q7ov1ijy</td>\n",
       "      <td>False</td>\n",
       "      <td>False</td>\n",
       "      <td>...</td>\n",
       "      <td>NaN</td>\n",
       "      <td>NaN</td>\n",
       "      <td>NaN</td>\n",
       "      <td>NaN</td>\n",
       "      <td>NaN</td>\n",
       "      <td>NaN</td>\n",
       "      <td>NaN</td>\n",
       "      <td>NaN</td>\n",
       "      <td>NaN</td>\n",
       "      <td>NaN</td>\n",
       "    </tr>\n",
       "    <tr>\n",
       "      <th>1</th>\n",
       "      <td>[]</td>\n",
       "      <td>False</td>\n",
       "      <td>Defiant-Order1997</td>\n",
       "      <td>None</td>\n",
       "      <td>[]</td>\n",
       "      <td>None</td>\n",
       "      <td>text</td>\n",
       "      <td>t2_a6h5ybov</td>\n",
       "      <td>False</td>\n",
       "      <td>False</td>\n",
       "      <td>...</td>\n",
       "      <td>NaN</td>\n",
       "      <td>NaN</td>\n",
       "      <td>NaN</td>\n",
       "      <td>NaN</td>\n",
       "      <td>NaN</td>\n",
       "      <td>NaN</td>\n",
       "      <td>NaN</td>\n",
       "      <td>NaN</td>\n",
       "      <td>NaN</td>\n",
       "      <td>NaN</td>\n",
       "    </tr>\n",
       "    <tr>\n",
       "      <th>2</th>\n",
       "      <td>[]</td>\n",
       "      <td>False</td>\n",
       "      <td>Crazy-Leadership1834</td>\n",
       "      <td>None</td>\n",
       "      <td>[]</td>\n",
       "      <td>None</td>\n",
       "      <td>text</td>\n",
       "      <td>t2_fhqb0p92</td>\n",
       "      <td>False</td>\n",
       "      <td>False</td>\n",
       "      <td>...</td>\n",
       "      <td>NaN</td>\n",
       "      <td>NaN</td>\n",
       "      <td>NaN</td>\n",
       "      <td>NaN</td>\n",
       "      <td>NaN</td>\n",
       "      <td>NaN</td>\n",
       "      <td>NaN</td>\n",
       "      <td>NaN</td>\n",
       "      <td>NaN</td>\n",
       "      <td>NaN</td>\n",
       "    </tr>\n",
       "  </tbody>\n",
       "</table>\n",
       "<p>3 rows × 71 columns</p>\n",
       "</div>"
      ],
      "text/plain": [
       "  all_awardings  allow_live_comments                author  \\\n",
       "0            []                False         bejbisvejeok1   \n",
       "1            []                False     Defiant-Order1997   \n",
       "2            []                False  Crazy-Leadership1834   \n",
       "\n",
       "  author_flair_css_class author_flair_richtext author_flair_text  \\\n",
       "0                   None                    []              None   \n",
       "1                   None                    []              None   \n",
       "2                   None                    []              None   \n",
       "\n",
       "  author_flair_type author_fullname  author_is_blocked author_patreon_flair  \\\n",
       "0              text     t2_q7ov1ijy              False                False   \n",
       "1              text     t2_a6h5ybov              False                False   \n",
       "2              text     t2_fhqb0p92              False                False   \n",
       "\n",
       "   ... author_flair_background_color author_flair_text_color  \\\n",
       "0  ...                           NaN                     NaN   \n",
       "1  ...                           NaN                     NaN   \n",
       "2  ...                           NaN                     NaN   \n",
       "\n",
       "   removed_by_category  author_flair_template_id  post_hint preview  \\\n",
       "0                  NaN                       NaN        NaN     NaN   \n",
       "1                  NaN                       NaN        NaN     NaN   \n",
       "2                  NaN                       NaN        NaN     NaN   \n",
       "\n",
       "  crosspost_parent crosspost_parent_list url_overridden_by_dest  \\\n",
       "0              NaN                   NaN                    NaN   \n",
       "1              NaN                   NaN                    NaN   \n",
       "2              NaN                   NaN                    NaN   \n",
       "\n",
       "   author_cakeday  \n",
       "0             NaN  \n",
       "1             NaN  \n",
       "2             NaN  \n",
       "\n",
       "[3 rows x 71 columns]"
      ]
     },
     "execution_count": 11,
     "metadata": {},
     "output_type": "execute_result"
    }
   ],
   "source": [
    "df_bipolar.head(3)"
   ]
  },
  {
   "cell_type": "markdown",
   "metadata": {},
   "source": [
    "## Export posts to CSV"
   ]
  },
  {
   "cell_type": "code",
   "execution_count": 12,
   "metadata": {},
   "outputs": [],
   "source": [
    "df_depress.to_csv('../data/depression_posts.csv',index=False)\n",
    "df_bipolar.to_csv('../data/bipolar_posts.csv',index=False)"
   ]
  },
  {
   "cell_type": "code",
   "execution_count": null,
   "metadata": {},
   "outputs": [],
   "source": []
  }
 ],
 "metadata": {
  "anaconda-cloud": {},
  "kernelspec": {
   "display_name": "Python 3 (ipykernel)",
   "language": "python",
   "name": "python3"
  },
  "language_info": {
   "codemirror_mode": {
    "name": "ipython",
    "version": 3
   },
   "file_extension": ".py",
   "mimetype": "text/x-python",
   "name": "python",
   "nbconvert_exporter": "python",
   "pygments_lexer": "ipython3",
   "version": "3.9.7"
  }
 },
 "nbformat": 4,
 "nbformat_minor": 4
}
